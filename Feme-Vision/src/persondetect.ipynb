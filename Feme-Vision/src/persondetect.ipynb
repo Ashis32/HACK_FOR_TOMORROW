{
 "cells": [
  {
   "cell_type": "code",
   "execution_count": null,
   "metadata": {
    "vscode": {
     "languageId": "plaintext"
    }
   },
   "outputs": [],
   "source": [
    "import cv2\n",
    "import numpy as np\n",
    "from ultralytics import YOLO \n",
    "import mediapipe as mp"
   ]
  },
  {
   "cell_type": "code",
   "execution_count": null,
   "metadata": {
    "vscode": {
     "languageId": "plaintext"
    }
   },
   "outputs": [],
   "source": [
    "#Person detection using YOLOv8 Nano\n",
    "\n",
    "model = YOLO('yolov8n.pt')  # Load pretrained YOLOv8 Nano model\n",
    "\n",
    "# Open the video file\n",
    "cap = cv2.VideoCapture(\"C:\\\\WoSAAP\\\\Voilence Against Woman DATASET\\\\WhatsApp Video 2025-02-16 at 20.29.05_0087f775.mp4\")  \n",
    "\n",
    "while cap.isOpened():\n",
    "    success, frame = cap.read()\n",
    "    if success:\n",
    "        results = model(frame, stream=True,conf=0.4) # Run YOLOv8 inference on the frame\n",
    "        for r in results: # iterate through each result\n",
    "            annotated_frame = r.plot()  # plot and get the annotated frame\n",
    "            cv2.imshow(\"YOLOv8 Inference\", annotated_frame)  # Display the annotated frame\n",
    "   \n",
    "        if cv2.waitKey(1) & 0xFF == ord(\"q\"):  # Break the loop if 'q' is pressed\n",
    "                break\n",
    "    else:\n",
    "        break\n",
    "\n",
    "cap.release()  # Release the video capture object\n",
    "cv2.destroyAllWindows()  # Close the display window"
   ]
  }
 ],
 "metadata": {
  "language_info": {
   "name": "python"
  }
 },
 "nbformat": 4,
 "nbformat_minor": 2
}
