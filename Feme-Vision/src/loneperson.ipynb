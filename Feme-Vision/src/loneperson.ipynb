{
 "cells": [
  {
   "cell_type": "code",
   "execution_count": null,
   "metadata": {
    "vscode": {
     "languageId": "plaintext"
    }
   },
   "outputs": [],
   "source": [
    "import cv2\n",
    "import numpy as np\n",
    "from ultralytics import YOLO\n"
   ]
  },
  {
   "cell_type": "code",
   "execution_count": null,
   "metadata": {
    "vscode": {
     "languageId": "plaintext"
    }
   },
   "outputs": [],
   "source": [
    "THRESHOLD_DISTANCE = 100\n",
    "\n",
    "def calculate_distance(p1, p2):\n",
    "    \"\"\"Compute Euclidean distance between two points.\"\"\"\n",
    "    return np.sqrt((p1[0] - p2[0])**2 + (p1[1] - p2[1])**2)\n"
   ]
  },
  {
   "cell_type": "code",
   "execution_count": null,
   "metadata": {
    "vscode": {
     "languageId": "plaintext"
    }
   },
   "outputs": [],
   "source": [
    "video_path = r\"C:\\WoSAAP\\Voilence Against Woman DATASET\\WhatsApp Video 2025-02-16 at 18.10.48_0a71d212.mp4\"\n",
    "# Load YOLOv8 Model\n",
    "model = YOLO(\"yolov8n.pt\")\n",
    "\n",
    "cap = cv2.VideoCapture(video_path)   \n",
    "assert cap.isOpened(), \"Error: Could not open video file\""
   ]
  },
  {
   "cell_type": "code",
   "execution_count": null,
   "metadata": {
    "vscode": {
     "languageId": "plaintext"
    }
   },
   "outputs": [],
   "source": [
    "\n",
    "cap = cv2.VideoCapture(video_path)\n",
    "\n",
    "while cap.isOpened():\n",
    "    ret, frame = cap.read()\n",
    "    if not ret:\n",
    "        break  # Stop if video ends\n",
    "\n",
    "    # Run YOLOv8 for Person Detection\n",
    "    results = model(frame)\n",
    "\n",
    "    # Store detected people positions\n",
    "    people_positions = []\n",
    "\n",
    "    for result in results:\n",
    "        for box in result.boxes:\n",
    "            x1, y1, x2, y2 = map(int, box.xyxy[0].tolist())  # Convert tensor to list and map to int\n",
    "            class_id = int(box.cls[0])  # Object class ID\n",
    "\n",
    "            if class_id == 0:  # YOLO class ID 0 corresponds to \"person\"\n",
    "                # Calculate the center of the bounding box\n",
    "                center_x, center_y = (x1 + x2) // 2, (y1 + y2) // 2\n",
    "                people_positions.append(((center_x, center_y), (x1, y1, x2, y2)))\n",
    "\n",
    "    # Detect Lone Persons\n",
    "    lone_persons = []\n",
    "    for person in people_positions:\n",
    "        center, bbox = person\n",
    "        is_lone = True  # Assume person is lone unless proven otherwise\n",
    "\n",
    "        for other_person in people_positions:\n",
    "            if person == other_person:\n",
    "                continue  # Skip self comparison\n",
    "\n",
    "            other_center, _ = other_person\n",
    "            distance = calculate_distance(center, other_center)\n",
    "\n",
    "            if distance < THRESHOLD_DISTANCE:\n",
    "                is_lone = False  # If another person is close, this person is not lone\n",
    "                break\n",
    "\n",
    "        if is_lone:\n",
    "            lone_persons.append(bbox)\n",
    "\n",
    "    # Draw Bounding Boxes and Labels for All Detected Persons\n",
    "    for person in people_positions:\n",
    "        (center_x, center_y), (x1, y1, x2, y2) = person  # Unpack the tuple correctly\n",
    "        color = (0, 255, 0)  # Green for normal detection\n",
    "        label = \"Person\"\n",
    "\n",
    "        # If person is lone, change bounding box color\n",
    "        if (x1, y1, x2, y2) in lone_persons:\n",
    "            color = (0, 0, 255)  # Red for lone persons\n",
    "            label = \"Lone Person\"\n",
    "\n",
    "        cv2.rectangle(frame, (x1, y1), (x2, y2), color, 2)\n",
    "        cv2.putText(frame, label, (x1, y1 - 10), cv2.FONT_HERSHEY_SIMPLEX, 0.6, color, 2)\n",
    "\n",
    "    # Display the Processed Video Frame\n",
    "    cv2.imshow(\"Lone Person Detection\", frame)\n",
    "    \n",
    "    # Press 'q' to Quit\n",
    "    if cv2.waitKey(1) & 0xFF == ord('q'):\n",
    "        break\n",
    "\n",
    "cap.release()\n",
    "cv2.destroyAllWindows()\n"
   ]
  }
 ],
 "metadata": {
  "language_info": {
   "name": "python"
  }
 },
 "nbformat": 4,
 "nbformat_minor": 2
}
